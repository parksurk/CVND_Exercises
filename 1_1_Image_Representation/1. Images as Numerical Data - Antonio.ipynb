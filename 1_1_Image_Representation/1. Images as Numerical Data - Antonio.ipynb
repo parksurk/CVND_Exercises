{
 "cells": [
  {
   "cell_type": "markdown",
   "metadata": {},
   "source": [
    "# Images as Grids of Pixels"
   ]
  },
  {
   "cell_type": "markdown",
   "metadata": {},
   "source": [
    "### Import resources"
   ]
  },
  {
   "cell_type": "code",
   "execution_count": 5,
   "metadata": {},
   "outputs": [],
   "source": [
    "import numpy as np\n",
    "import matplotlib.image as mpimg # for reading in images\n",
    "\n",
    "import matplotlib.pyplot as plt\n",
    "import cv2 # computer vision library\n",
    "\n",
    "%matplotlib tk"
   ]
  },
  {
   "cell_type": "markdown",
   "metadata": {},
   "source": [
    "### Read in and display the image"
   ]
  },
  {
   "cell_type": "code",
   "execution_count": 7,
   "metadata": {},
   "outputs": [
    {
     "data": {
      "text/plain": [
       "'/Users/parksurk/udacity/cvnd/CVND_Exercises/1_1_Image_Representation'"
      ]
     },
     "execution_count": 7,
     "metadata": {},
     "output_type": "execute_result"
    }
   ],
   "source": [
    "pwd"
   ]
  },
  {
   "cell_type": "code",
   "execution_count": 8,
   "metadata": {},
   "outputs": [
    {
     "name": "stdout",
     "output_type": "stream",
     "text": [
      "1. Images as Numerical Data - Antonio.ipynb\r\n",
      "1. Images as Numerical Data.ipynb\r\n",
      "2. Visualizing RGB Channels.ipynb\r\n",
      "3. Blue Screen.ipynb\r\n",
      "4. Green Screen Car.ipynb\r\n",
      "5_1. HSV Color Space, Balloons.ipynb\r\n",
      "5_2. Green screen, HSV conversion.ipynb\r\n",
      "6_1. Visualizing the Data.ipynb\r\n",
      "6_2. Standardizing the Data.ipynb\r\n",
      "6_3. Average Brightness.ipynb\r\n",
      "6_4. Classification.ipynb\r\n",
      "6_5. Accuracy and Misclassification.ipynb\r\n",
      "\u001b[34mday_night_images\u001b[m\u001b[m/\r\n",
      "helpers.py\r\n",
      "\u001b[34mimages\u001b[m\u001b[m/\r\n"
     ]
    }
   ],
   "source": [
    "ls "
   ]
  },
  {
   "cell_type": "code",
   "execution_count": 9,
   "metadata": {},
   "outputs": [
    {
     "name": "stdout",
     "output_type": "stream",
     "text": [
      "car_green_screen.jpg   pizza_bluescreen2.jpg  wa_state_highway.jpg\r\n",
      "car_green_screen2.jpg  sky.jpg                water_balloons.jpg\r\n",
      "pizza_bluescreen.jpg   space_background.jpg   waymo_car.jpg\r\n"
     ]
    }
   ],
   "source": [
    "ls ./images"
   ]
  },
  {
   "cell_type": "code",
   "execution_count": 19,
   "metadata": {},
   "outputs": [
    {
     "name": "stdout",
     "output_type": "stream",
     "text": [
      "imgae dimension :  (638, 960, 3)\n"
     ]
    },
    {
     "data": {
      "text/plain": [
       "<matplotlib.image.AxesImage at 0x11d385208>"
      ]
     },
     "execution_count": 19,
     "metadata": {},
     "output_type": "execute_result"
    }
   ],
   "source": [
    "# Read in the image\n",
    "img = mpimg.imread('./images/water_balloons.jpg')\n",
    "# Print out the image dimensions\n",
    "print('imgae dimension : ', img.shape)\n",
    "\n",
    "# Change from color to grayscale\n",
    "gray_img = cv2.cvtColor(img, cv2.COLOR_RGB2GRAY)\n",
    "plt.imshow(gray_img, cmap='gray')"
   ]
  },
  {
   "cell_type": "code",
   "execution_count": 20,
   "metadata": {},
   "outputs": [
    {
     "name": "stdout",
     "output_type": "stream",
     "text": [
      "<class 'numpy.ndarray'>\n",
      "160\n"
     ]
    }
   ],
   "source": [
    "# Print specific grayscale pixel values\n",
    "# What is the pixel value at x = 400 and y = 300 (on the body of the car)?\n",
    "\n",
    "x=400\n",
    "y=300\n",
    "print(type(gray_img))\n",
    "print(gray_img[y, x])\n"
   ]
  },
  {
   "cell_type": "code",
   "execution_count": 21,
   "metadata": {},
   "outputs": [
    {
     "name": "stdout",
     "output_type": "stream",
     "text": [
      "Max :  255\n",
      "Min :  4\n"
     ]
    }
   ],
   "source": [
    "#Find the maximum and minimum grayscale values in this image\n",
    "max_val = np.amax(gray_img)\n",
    "min_val = np.amin(gray_img)\n",
    "\n",
    "print('Max : ', max_val)\n",
    "print('Min : ', min_val)"
   ]
  },
  {
   "cell_type": "code",
   "execution_count": 22,
   "metadata": {},
   "outputs": [
    {
     "data": {
      "text/plain": [
       "<matplotlib.image.AxesImage at 0x1222a5240>"
      ]
     },
     "execution_count": 22,
     "metadata": {},
     "output_type": "execute_result"
    }
   ],
   "source": [
    "# Create a 5x5 image using just grayscale, numerical values\n",
    "tiny_img = np.array([[0, 20, 30, 150, 120],\n",
    "                      [200, 200, 250, 70, 3],\n",
    "                      [50, 180, 85, 40, 90],\n",
    "                      [240, 100, 50, 255, 10],\n",
    "                      [30, 0, 75, 190, 220]])\n",
    "\n",
    "# To show the pixel grid, use matshow\n",
    "plt.matshow(tiny_img, cmap='gray')\n",
    "\n",
    "## TODO: See if you can draw a tiny smiley face or something else!"
   ]
  },
  {
   "cell_type": "code",
   "execution_count": 23,
   "metadata": {},
   "outputs": [
    {
     "data": {
      "text/plain": [
       "<matplotlib.image.AxesImage at 0x1222d7828>"
      ]
     },
     "execution_count": 23,
     "metadata": {},
     "output_type": "execute_result"
    },
    {
     "name": "stderr",
     "output_type": "stream",
     "text": [
      "ERROR:root:Invalid alias: The name clear can't be aliased because it is another magic command.\n",
      "ERROR:root:Invalid alias: The name more can't be aliased because it is another magic command.\n",
      "ERROR:root:Invalid alias: The name less can't be aliased because it is another magic command.\n",
      "ERROR:root:Invalid alias: The name man can't be aliased because it is another magic command.\n"
     ]
    }
   ],
   "source": [
    "# Create a 5x5 image using just grayscale, numerical values\n",
    "face_img = np.array([[255, 255, 255, 255, 255],\n",
    "                      [255, 70, 255, 70, 255],\n",
    "                      [255, 255, 85, 255, 255],\n",
    "                      [255, 75, 75, 75, 255],\n",
    "                      [255, 75, 75, 75, 255]])\n",
    "\n",
    "# To show the pixel grid, use matshow\n",
    "plt.matshow(face_img, cmap='gray')"
   ]
  },
  {
   "cell_type": "code",
   "execution_count": null,
   "metadata": {},
   "outputs": [],
   "source": []
  }
 ],
 "metadata": {
  "anaconda-cloud": {},
  "kernelspec": {
   "display_name": "cv-nd",
   "language": "python",
   "name": "cv-nd"
  },
  "language_info": {
   "codemirror_mode": {
    "name": "ipython",
    "version": 3
   },
   "file_extension": ".py",
   "mimetype": "text/x-python",
   "name": "python",
   "nbconvert_exporter": "python",
   "pygments_lexer": "ipython3",
   "version": "3.6.8"
  }
 },
 "nbformat": 4,
 "nbformat_minor": 1
}
