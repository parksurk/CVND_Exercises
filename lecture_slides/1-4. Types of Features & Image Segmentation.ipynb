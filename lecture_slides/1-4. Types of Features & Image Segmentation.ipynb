{
 "cells": [
  {
   "cell_type": "markdown",
   "metadata": {
    "slideshow": {
     "slide_type": "slide"
    }
   },
   "source": [
    "# Lesson 1-4 : Types of Features & Image Segmentation"
   ]
  },
  {
   "cell_type": "markdown",
   "metadata": {
    "slideshow": {
     "slide_type": "slide"
    }
   },
   "source": [
    "## 1-4-1 : Types of Features\n",
    "\n",
    "![Types of Features](./images/1-4-1-1_Types_of_Features.png)"
   ]
  },
  {
   "cell_type": "markdown",
   "metadata": {
    "slideshow": {
     "slide_type": "subslide"
    }
   },
   "source": [
    "### Edges\n",
    "\n",
    "![Edges](./images/1-4-1-2_Edges.png)"
   ]
  },
  {
   "cell_type": "markdown",
   "metadata": {
    "slideshow": {
     "slide_type": "subslide"
    }
   },
   "source": [
    "### Corners\n",
    "\n",
    "![Corners](./images/1-4-1-3_Corners.png)"
   ]
  },
  {
   "cell_type": "markdown",
   "metadata": {
    "slideshow": {
     "slide_type": "subslide"
    }
   },
   "source": [
    "### Blobs\n",
    "\n",
    "![Blobs](./images/1-4-1-4_Blobs.png)"
   ]
  },
  {
   "cell_type": "markdown",
   "metadata": {
    "slideshow": {
     "slide_type": "subslide"
    }
   },
   "source": [
    "### Corners are the most repeatable feature\n",
    "\n",
    "![Corners are the most repeatable feature](./images/1-4-1-5_Corners_are_the_most_repeatable_feature.png)"
   ]
  },
  {
   "cell_type": "markdown",
   "metadata": {
    "slideshow": {
     "slide_type": "subslide"
    }
   },
   "source": [
    "### Types of Features explanation\n",
    "\n",
    "![Types of Features explanation](./images/1-4-1-6_Types_of_Features_explain_with_Mondrian_painting.png)"
   ]
  },
  {
   "cell_type": "markdown",
   "metadata": {
    "slideshow": {
     "slide_type": "subslide"
    }
   },
   "source": [
    "![Mondrian painting Blobs](./images/1-4-1-7_Mondrian_painting_Blobs.png)"
   ]
  },
  {
   "cell_type": "markdown",
   "metadata": {
    "slideshow": {
     "slide_type": "subslide"
    }
   },
   "source": [
    "![Mondrian painting Edges](./images/1-4-1-8_Mondrian_painting_Edges.png)"
   ]
  },
  {
   "cell_type": "markdown",
   "metadata": {
    "slideshow": {
     "slide_type": "subslide"
    }
   },
   "source": [
    "![Mondrian painting Corners](./images/1-4-1-9_Mondrian_painting_Corners.png)"
   ]
  },
  {
   "cell_type": "markdown",
   "metadata": {
    "slideshow": {
     "slide_type": "subslide"
    }
   },
   "source": [
    "### Corners are good features because they are so unique.\n",
    "\n",
    "![Corners are good features](./images/1-4-1-10_Corners_are_good_features.png)"
   ]
  },
  {
   "cell_type": "markdown",
   "metadata": {
    "slideshow": {
     "slide_type": "slide"
    }
   },
   "source": [
    "## 1-4-2 : Corner Detectors"
   ]
  },
  {
   "cell_type": "markdown",
   "metadata": {
    "slideshow": {
     "slide_type": "subslide"
    }
   },
   "source": [
    "![Corner Detectors - Edges](./images/1-4-2-1_Corner_Detectors_Edges.png)"
   ]
  },
  {
   "cell_type": "markdown",
   "metadata": {
    "slideshow": {
     "slide_type": "subslide"
    }
   },
   "source": [
    "![Meaning of Edges](./images/1-4-2-2_Meaning_of_Edges.png)"
   ]
  },
  {
   "cell_type": "markdown",
   "metadata": {
    "slideshow": {
     "slide_type": "subslide"
    }
   },
   "source": [
    "![Meaning of Edges by gradient](./images/1-4-2-3_Meaning_of_Edges_by_gradient.png)"
   ]
  },
  {
   "cell_type": "markdown",
   "metadata": {
    "slideshow": {
     "slide_type": "subslide"
    }
   },
   "source": [
    "![Corner Detectors - Corners](./images/1-4-2-4_Corner_Detectors_Corners.png)"
   ]
  },
  {
   "cell_type": "markdown",
   "metadata": {
    "slideshow": {
     "slide_type": "subslide"
    }
   },
   "source": [
    "![Meaning of Corners by gradient](./images/1-4-2-5_Meaning_of_Corners_by_gradient.png)"
   ]
  },
  {
   "cell_type": "markdown",
   "metadata": {
    "slideshow": {
     "slide_type": "subslide"
    }
   },
   "source": [
    "![Meaning of Gradient](./images/1-4-2-6_Meaning_of_Gradient.png)"
   ]
  },
  {
   "cell_type": "markdown",
   "metadata": {
    "slideshow": {
     "slide_type": "subslide"
    }
   },
   "source": [
    "![Calculating of Gradient](./images/1-4-2-7_Calculating_of_Gradient_by_SobelX_and_SobelY.png)"
   ]
  },
  {
   "cell_type": "markdown",
   "metadata": {
    "slideshow": {
     "slide_type": "subslide"
    }
   },
   "source": [
    "![Calculating of Magnitude and Direction of Gradient](./images/1-4-2-8_Calculating_of_Magnitude_and_Direction_of_Gradient.png)"
   ]
  },
  {
   "cell_type": "markdown",
   "metadata": {
    "slideshow": {
     "slide_type": "subslide"
    }
   },
   "source": [
    "![Converting to Polar Coordinates](./images/1-4-2-9_Converting_to_Polar_Coordinates.png)"
   ]
  },
  {
   "cell_type": "markdown",
   "metadata": {
    "slideshow": {
     "slide_type": "subslide"
    }
   },
   "source": [
    "![Converting Magnitude and Direction of Gradient to Polar Coordinates](./images/1-4-2-10_Converting_Magnitude_and_Direction_of_Gradient_to_Polar_Coordinates.png)"
   ]
  },
  {
   "cell_type": "markdown",
   "metadata": {
    "slideshow": {
     "slide_type": "subslide"
    }
   },
   "source": [
    "The magnitude should be calculated as the sum of the Gx and Gy components\n",
    "\n",
    "### rho = sqrt(Gx^2 + Gy^2)\n",
    "\n",
    "![Magnitude of Gradient](./images/1-4-2-11_Magnitude_of_Gradient.png)"
   ]
  },
  {
   "cell_type": "markdown",
   "metadata": {
    "slideshow": {
     "slide_type": "subslide"
    }
   },
   "source": [
    "![Corner Detectors Summary](./images/1-4-2-12_Corner_Detectors_Summary.png)\n",
    "\n",
    "You can learn more about Harris Corner Detection in OpenCV, here(http://opencv-python-tutroals.readthedocs.io/en/latest/py_tutorials/py_feature2d/py_features_harris/py_features_harris.html)."
   ]
  },
  {
   "cell_type": "markdown",
   "metadata": {
    "slideshow": {
     "slide_type": "subslide"
    }
   },
   "source": [
    "### Hands-On :  <a href=\"../1_3_Types_of_Features_Image_Segmentation/1. Harris Corner Detection.ipynb\">1. Harris Corner Detection.ipynb</a> "
   ]
  },
  {
   "cell_type": "markdown",
   "metadata": {
    "slideshow": {
     "slide_type": "slide"
    }
   },
   "source": [
    "## 1-4-3 : Dilation and Erosion\n",
    "\n",
    "Dilation and erosion are known as morphological operations. They are often performed on binary images, similar to contour detection. Dilation enlarges bright, white areas in an image by adding pixels to the perceived boundaries of objects in that image. Erosion does the opposite: it removes pixels along object boundaries and shrinks the size of objects.\n",
    "\n",
    "Often these two operations are performed in sequence to enhance important object traits."
   ]
  },
  {
   "cell_type": "markdown",
   "metadata": {
    "slideshow": {
     "slide_type": "subslide"
    }
   },
   "source": [
    "![Dilation and Erosion](./images/1-4-3-1_Dilation_and_Erosion.png)"
   ]
  },
  {
   "cell_type": "markdown",
   "metadata": {
    "slideshow": {
     "slide_type": "subslide"
    }
   },
   "source": [
    "### Dilation\n",
    "\n",
    "![Dilation](./images/1-4-3-2_Dilation.png)\n",
    "\n",
    "To dilate an image in OpenCV, you can use the dilate function and three inputs: an original binary image, a kernel that determines the size of the dilation (None will result in a default size), and a number of iterations to perform the dilation (typically = 1). In the below example, we have a 5x5 kernel of ones, which move over an image, like a filter, and turn a pixel white if any of its surrounding pixels are white in a 5x5 window! We’ll use a simple image of the cursive letter “j” as an example."
   ]
  },
  {
   "cell_type": "markdown",
   "metadata": {
    "slideshow": {
     "slide_type": "subslide"
    }
   },
   "source": [
    "### Erosion\n",
    "\n",
    "![Dilation and Erosion](./images/1-4-3-3_Erosion.png)\n",
    "\n",
    "To erode an image, we do the same but with the erode function."
   ]
  },
  {
   "cell_type": "markdown",
   "metadata": {
    "slideshow": {
     "slide_type": "subslide"
    }
   },
   "source": [
    "### Opening\n",
    "\n",
    "![Opening](./images/1-4-3-4_Opening.png)\n",
    "\n",
    "As mentioned, above, these operations are often combined for desired results! One such combination is called opening, which is erosion followed by dilation. This is useful in noise reduction in which erosion first gets rid of noise (and shrinks the object) then dilation enlarges the object again, but the noise will have disappeared from the previous erosion."
   ]
  },
  {
   "cell_type": "markdown",
   "metadata": {
    "slideshow": {
     "slide_type": "subslide"
    }
   },
   "source": [
    "![Opening by OpenCV](./images/1-4-3-5_Opening_by_OpenCV.png)\n",
    "\n",
    "To implement this in OpenCV, we use the function morphologyEx with our original image, the operation we want to perform, and our kernel passed in."
   ]
  },
  {
   "cell_type": "markdown",
   "metadata": {
    "slideshow": {
     "slide_type": "subslide"
    }
   },
   "source": [
    "### Closing\n",
    "\n",
    "![Closing](./images/1-4-3-6_Closing.png)\n",
    "\n",
    "Closing is the reverse combination of opening; it’s dilation followed by erosion, which is useful in closing small holes or dark areas within an object."
   ]
  },
  {
   "cell_type": "markdown",
   "metadata": {
    "slideshow": {
     "slide_type": "subslide"
    }
   },
   "source": [
    "![Closing by OpenCV](./images/1-4-3-7_Closing_by_OpenCV.png)\n",
    "\n",
    "Closing is reverse of Opening, Dilation followed by Erosion. It is useful in closing small holes inside the foreground objects, or small black points on the object."
   ]
  },
  {
   "cell_type": "markdown",
   "metadata": {
    "slideshow": {
     "slide_type": "slide"
    }
   },
   "source": [
    "## 1-4-4 : Image Segmentation"
   ]
  },
  {
   "cell_type": "markdown",
   "metadata": {
    "slideshow": {
     "slide_type": "subslide"
    }
   },
   "source": [
    "![Image Segmentation](./images/1-4-4-1_Image_Segmentation.png)\n",
    "\n",
    "We are familiar with a few simple feature types, it may be useful to look at how we can group together different parts of an image by using these features. Grouping or segmenting images into distinct parts is known as image segmentation.\n",
    "\n",
    "The simplest case for image segmentation is in background subtraction. In video and other applications, it is often the case that a human has to be isolated from a static or moving background, and so we have to use segmentation methods to distinguish these areas. Image segmentation is also used in a variety of complex recognition tasks, such as in classifying every pixel in an image of the road.\n",
    "\n",
    "### we'll look at a couple ways to segment an image:\n",
    "\n",
    "- using contours to draw boundaries around different parts of an image\n",
    "- using clustering image data by some measure of color or texture similarity."
   ]
  },
  {
   "cell_type": "markdown",
   "metadata": {
    "slideshow": {
     "slide_type": "slide"
    }
   },
   "source": [
    "## 1-4-5 : Image Contours"
   ]
  },
  {
   "cell_type": "markdown",
   "metadata": {
    "slideshow": {
     "slide_type": "subslide"
    }
   },
   "source": [
    "![Edge Detection for Image Segmentation](./images/1-4-5-1_Edge_Detection_for_Image_Segmentation.png)\n",
    "\n",
    "Edge detection algorithms are often used to detect the boundaries of objects.\n",
    "But, after performing edge detection you'll often be left with sets of edges that highlight not only object boundaries but also interesting features and lines.\n"
   ]
  },
  {
   "cell_type": "markdown",
   "metadata": {
    "slideshow": {
     "slide_type": "subslide"
    }
   },
   "source": [
    "![We need only complete closed boundaries for Image Segmentation](./images/1-4-5-2_only_complete_closed_boundaries_for_Image_Segmentation.png)\n",
    "\n",
    "To do image segmentation, you'll want only complete closed boundaries that marked distinct areas and objects in an image.\n"
   ]
  },
  {
   "cell_type": "markdown",
   "metadata": {
    "slideshow": {
     "slide_type": "subslide"
    }
   },
   "source": [
    "![Image Contouring](./images/1-4-5-3_Image_Contouring.png)\n",
    "\n",
    "One technique that's useful for this is called, Image Contouring"
   ]
  },
  {
   "cell_type": "markdown",
   "metadata": {
    "slideshow": {
     "slide_type": "subslide"
    }
   },
   "source": [
    "![white object against a black background](./images/1-4-5-4_white_object_against_a_black_background.png)\n",
    "\n",
    "In OpenCV contours are best detected\n",
    "when there's a white object against a black background."
   ]
  },
  {
   "cell_type": "markdown",
   "metadata": {
    "slideshow": {
     "slide_type": "subslide"
    }
   },
   "source": [
    "![find the contours](./images/1-4-5-5_find_the_contours.png)\n",
    "\n",
    "To find the contours, We use OpenCV function, findContours."
   ]
  },
  {
   "cell_type": "markdown",
   "metadata": {
    "slideshow": {
     "slide_type": "subslide"
    }
   },
   "source": [
    "![Contour features](./images/1-4-5-6_Contour_features.png)\n",
    "\n",
    "From this contour, we use extract lots of information about the shape of the hand including its area, the center of the shape, its perimeter, and its bounding rectangle."
   ]
  },
  {
   "cell_type": "markdown",
   "metadata": {
    "slideshow": {
     "slide_type": "subslide"
    }
   },
   "source": [
    "### reference to Contour\n",
    "Explore the OpenCV documentation(http://opencv-python-tutroals.readthedocs.io/en/latest/py_tutorials/py_imgproc/py_contours/py_table_of_contents_contours/py_table_of_contents_contours.html) to learn all about the information that contour detection provide"
   ]
  },
  {
   "cell_type": "markdown",
   "metadata": {
    "slideshow": {
     "slide_type": "subslide"
    }
   },
   "source": [
    "### Hands-On :  <a href=\"../1_3_Types_of_Features_Image_Segmentation/2. Contour detection and features.ipynb\">2. Contour detection and features.ipynb</a> "
   ]
  },
  {
   "cell_type": "markdown",
   "metadata": {
    "slideshow": {
     "slide_type": "slide"
    }
   },
   "source": [
    "## 1-4-6 : K-means Clustering"
   ]
  },
  {
   "cell_type": "markdown",
   "metadata": {
    "slideshow": {
     "slide_type": "subslide"
    }
   },
   "source": [
    "![K-means Clustering for image](./images/1-4-6-1_K-means_Clustering_for_image.png)"
   ]
  },
  {
   "cell_type": "markdown",
   "metadata": {
    "slideshow": {
     "slide_type": "subslide"
    }
   },
   "source": [
    "![K-means Clustering is Unsupervised Learning](./images/1-4-6-2_K-means_Clustering_is_Unsupervised_Learning.png)"
   ]
  },
  {
   "cell_type": "markdown",
   "metadata": {
    "slideshow": {
     "slide_type": "subslide"
    }
   },
   "source": [
    "![K is number of clusters](./images/1-4-6-3_K_is_number_of_clusters.png)"
   ]
  },
  {
   "cell_type": "markdown",
   "metadata": {
    "slideshow": {
     "slide_type": "subslide"
    }
   },
   "source": [
    "![K-means Clustering step1](./images/1-4-6-4_K-means_Clustering_step1.png)"
   ]
  },
  {
   "cell_type": "markdown",
   "metadata": {
    "slideshow": {
     "slide_type": "subslide"
    }
   },
   "source": [
    "![K-means Clustering step2](./images/1-4-6-5_K-means_Clustering_step2.png)"
   ]
  },
  {
   "cell_type": "markdown",
   "metadata": {
    "slideshow": {
     "slide_type": "subslide"
    }
   },
   "source": [
    "![K-means Clustering step3](./images/1-4-6-6_K-means_Clustering_step3.png)"
   ]
  },
  {
   "cell_type": "markdown",
   "metadata": {
    "slideshow": {
     "slide_type": "subslide"
    }
   },
   "source": [
    "![K-means Clustering step4](./images/1-4-6-7_K-means_Clustering_step4.png)"
   ]
  },
  {
   "cell_type": "markdown",
   "metadata": {
    "slideshow": {
     "slide_type": "subslide"
    }
   },
   "source": [
    "![K-means Clustering step5](./images/1-4-6-8_K-means_Clustering_step5.png)"
   ]
  },
  {
   "cell_type": "markdown",
   "metadata": {
    "slideshow": {
     "slide_type": "subslide"
    }
   },
   "source": [
    "![K-means Clustering step6](./images/1-4-6-9_K-means_Clustering_step6.png)"
   ]
  },
  {
   "cell_type": "markdown",
   "metadata": {
    "slideshow": {
     "slide_type": "subslide"
    }
   },
   "source": [
    "![K-means Clustering step7](./images/1-4-6-10_K-means_Clustering_step7.png)"
   ]
  },
  {
   "cell_type": "markdown",
   "metadata": {
    "slideshow": {
     "slide_type": "subslide"
    }
   },
   "source": [
    "![K-means Clustering step8](./images/1-4-6-11_K-means_Clustering_step8.png)"
   ]
  },
  {
   "cell_type": "markdown",
   "metadata": {
    "slideshow": {
     "slide_type": "subslide"
    }
   },
   "source": [
    "![K-means Clustering step9](./images/1-4-6-12_K-means_Clustering_step9.png)"
   ]
  },
  {
   "cell_type": "markdown",
   "metadata": {
    "slideshow": {
     "slide_type": "subslide"
    }
   },
   "source": [
    "![K-means Clustering step10](./images/1-4-6-13_K-means_Clustering_step10.png)"
   ]
  },
  {
   "cell_type": "markdown",
   "metadata": {
    "slideshow": {
     "slide_type": "subslide"
    }
   },
   "source": [
    "![K-means Clustering step11](./images/1-4-6-14_K-means_Clustering_step11.png)"
   ]
  },
  {
   "cell_type": "markdown",
   "metadata": {
    "slideshow": {
     "slide_type": "subslide"
    }
   },
   "source": [
    "![K-means Clustering step12](./images/1-4-6-15_K-means_Clustering_step12.png)"
   ]
  },
  {
   "cell_type": "markdown",
   "metadata": {
    "slideshow": {
     "slide_type": "subslide"
    }
   },
   "source": [
    "![K-means Clustering step13](./images/1-4-6-16_K-means_Clustering_step13.png)"
   ]
  },
  {
   "cell_type": "markdown",
   "metadata": {
    "slideshow": {
     "slide_type": "subslide"
    }
   },
   "source": [
    "![K-means Clustering step14](./images/1-4-6-17_K-means_Clustering_step14.png)"
   ]
  },
  {
   "cell_type": "markdown",
   "metadata": {
    "slideshow": {
     "slide_type": "subslide"
    }
   },
   "source": [
    "### Hands-On :  <a href=\"../1_3_Types_of_Features_Image_Segmentation/3. K-means.ipynb\">3. K-means.ipynb</a> "
   ]
  }
 ],
 "metadata": {
  "celltoolbar": "Slideshow",
  "kernelspec": {
   "display_name": "cv-nd",
   "language": "python",
   "name": "cv-nd"
  },
  "language_info": {
   "codemirror_mode": {
    "name": "ipython",
    "version": 3
   },
   "file_extension": ".py",
   "mimetype": "text/x-python",
   "name": "python",
   "nbconvert_exporter": "python",
   "pygments_lexer": "ipython3",
   "version": "3.6.8"
  }
 },
 "nbformat": 4,
 "nbformat_minor": 2
}
